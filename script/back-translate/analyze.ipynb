{
 "cells": [
  {
   "cell_type": "code",
   "execution_count": 1,
   "metadata": {},
   "outputs": [],
   "source": [
    "import pandas as pd\n",
    "from collections import defaultdict\n",
    "from copy import deepcopy\n",
    "\n",
    "import numpy as np\n",
    "import json\n",
    "import warnings\n",
    "warnings.filterwarnings(\"ignore\")\n",
    "from tqdm import tqdm\n",
    "import _pickle as cPickle\n",
    "\n",
    "\n",
    "que_split_path_dict = {\n",
    "    \"minval\": \"../../datasets/VQA/back-translate/org2_bt_v2_OpenEnded_mscoco_minval2014_questions.pkl\",\n",
    "    \"train\": \"../../datasets/VQA/back-translate/org2_bt_v2_OpenEnded_mscoco_train2014_questions.pkl\",\n",
    "    \"val\":  \"../../datasets/VQA/back-translate/org2_bt_v2_OpenEnded_mscoco_val2014_questions.pkl\",\n",
    "    \"test\": \"../../datasets/VQA/back-translate/org2_bt_v2_OpenEnded_mscoco_test2015_questions.pkl\",\n",
    "    \"trainval\": \"../../datasets/VQA/back-translate/org2_bt_v2_OpenEnded_mscoco_trainval2014_questions.pkl\",\n",
    "}\n",
    "\n",
    "dump_path_dict = {\n",
    "    \"minval\": \"../../datasets/VQA/back-translate/analyze_org2_bt_v2_OpenEnded_mscoco_minval2014_questions.pkl\",\n",
    "    \"train\": \"../../datasets/VQA/back-translate/analyze_org2_bt_v2_OpenEnded_mscoco_train2014_questions.pkl\",\n",
    "    \"val\": \"../../datasets/VQA/back-translate/analyze_org2_bt_v2_OpenEnded_mscoco_val2014_questions.pkl\",\n",
    "    \"test\": \"../../datasets/VQA/back-translate/analyze_org2_bt_v2_OpenEnded_mscoco_test2015_questions.pkl\",\n",
    "    \"trainval\": \"../../datasets/VQA/back-translate/analyze_org2_bt_v2_OpenEnded_mscoco_trainval2014_questions.pkl\",\n",
    "}"
   ]
  },
  {
   "cell_type": "code",
   "execution_count": 18,
   "metadata": {},
   "outputs": [
    {
     "name": "stdout",
     "output_type": "stream",
     "text": [
      "Processing: minval\n"
     ]
    },
    {
     "name": "stderr",
     "output_type": "stream",
     "text": [
      "100%|██████████| 3000/3000 [01:12<00:00, 32.80it/s]\n"
     ]
    },
    {
     "name": "stdout",
     "output_type": "stream",
     "text": [
      "en                                   (1.0, 1.0)\n",
      "nl      (0.9647873496757869, 4.669947275922671)\n",
      "sv      (0.9643575454016304, 4.868016759776537)\n",
      "de      (0.9633686107722961, 4.796119929453263)\n",
      "da      (0.9633143910506267, 4.902309058614565)\n",
      "                         ...                   \n",
      "kqn    (0.8520042200254488, 22.455696202531644)\n",
      "tll    (0.8497816105683644, 23.113793103448277)\n",
      "lue    (0.8469826591497212, 22.804624277456647)\n",
      "tiv            (0.8464531257748604, 23.8296875)\n",
      "kwy    (0.8456927291813865, 23.810699588477366)\n",
      "Name: 0, Length: 85, dtype: object\n",
      "--------------------------------------------------------------------------------\n"
     ]
    }
   ],
   "source": [
    "# get all languages\n",
    "lang_seqs = np.load(\"lang_seqs.npy\", allow_pickle=True)\n",
    "all_langs = list(np.concatenate(lang_seqs))\n",
    "df = pd.DataFrame(columns=[\"org_question_id\"] + all_langs)\n",
    "split = \"minval\"\n",
    "print(f\"Processing: {split}\")\n",
    "data = cPickle.load(open(que_split_path_dict[split], \"rb\"))\n",
    "questions = data[\"questions\"]\n",
    "\n",
    "for row in tqdm(questions):\n",
    "    langs = []\n",
    "    values = [row[0][\"question_id\"]]\n",
    "    for idx, item in enumerate(row):\n",
    "        langs.extend(item[\"languages\"])\n",
    "        value = [(item[\"sim_score\"], idx+1)] * len(item[\"languages\"])\n",
    "        values.extend(value)\n",
    "    _df_row = pd.DataFrame([values], columns=[\"org_question_id\"] + langs)\n",
    "    df = df.append(_df_row)\n",
    "\n",
    "last_col = []\n",
    "col_names = []\n",
    "for col_name in df.columns:\n",
    "    if col_name == \"org_question_id\":\n",
    "        continue\n",
    "    col = df[col_name]\n",
    "\n",
    "    # remove NAN and empty tuples\n",
    "    col = col[col.notna()]\n",
    "    col = [item for item in col if item != ()]\n",
    "\n",
    "    if len(col) == 0:\n",
    "        continue\n",
    "\n",
    "    sim_scores, ranks = list(zip(*col))\n",
    "    avg_sim_score, avg_rank = sum(sim_scores)/len(sim_scores), sum(ranks)/len(ranks)\n",
    "    last_col.append((avg_sim_score, avg_rank))\n",
    "    col_names.append(col_name)\n",
    "\n",
    "last_row = pd.DataFrame([last_col], columns=col_names)\n",
    "df = df.append(last_row)\n",
    "# sort based on descending similarity\n",
    "# filter NAN\n",
    "filtered_inds = df.iloc[-1][df.iloc[-1].notna()]\n",
    "# create tuple of language w/ sim-rank\n",
    "fil_langs = list(filtered_inds.keys())\n",
    "df = df[fil_langs]\n",
    "last_row = [x[0] for x in list(df.iloc[-1])]\n",
    "sorted_inds = np.argsort(last_row)\n",
    "sorted_langs = np.array(fil_langs)[sorted_inds]\n",
    "sorted_langs = np.flip(sorted_langs)\n",
    "df = df.reindex(sorted_langs, axis=1)\n",
    "\n",
    "dump_path = dump_path_dict[split]\n",
    "# df.to_pickle(dump_path)\n",
    "print(df.iloc[-1])\n",
    "print(\"-\"*80)\n",
    "# print(f\"Dumped: {dump_path}\")\n",
    "\n",
    "\n"
   ]
  },
  {
   "cell_type": "code",
   "execution_count": 33,
   "metadata": {},
   "outputs": [],
   "source": [
    "langs = df.keys()\n",
    "sims = [x[0] for x in list(df.iloc[-1])]\n",
    "ranks = [x[1] for x in list(df.iloc[-1])]\n",
    "\n",
    "df_sim_plot = pd.DataFrame( [sims], columns=langs)\n",
    "df_rank_plot = pd.DataFrame( [ranks], columns=langs)"
   ]
  },
  {
   "cell_type": "code",
   "execution_count": 34,
   "metadata": {},
   "outputs": [],
   "source": [
    "import matplotlib.pyplot as plt\n",
    "import pandas as pd\n",
    "df_sim_plot.to_csv(\"../../datasets/VQA/back-translate/analyze_minval_sim.csv\")\n",
    "df_rank_plot.to_csv(\"../../datasets/VQA/back-translate/analyze_minval_rank.csv\")\n",
    "\n"
   ]
  },
  {
   "cell_type": "code",
   "execution_count": 44,
   "metadata": {},
   "outputs": [
    {
     "name": "stdout",
     "output_type": "stream",
     "text": [
      "    en        nl        sv        de        da        ga        fr       it  \\\n",
      "0  1.0  0.964787  0.964358  0.963369  0.963314  0.963301  0.961826  0.96041   \n",
      "\n",
      "         af   ROMANCE        fi       bg        cs        sk        et  \\\n",
      "0  0.958322  0.956075  0.955085  0.95468  0.953235  0.953186  0.952776   \n",
      "\n",
      "         mk        hu        mt        id        sq        eo        ru  \\\n",
      "0  0.948876  0.947255  0.946773  0.946217  0.945489  0.945208  0.942523   \n",
      "\n",
      "         tl        ca        uk        is        eu       ilo       ceb  \\\n",
      "0  0.942449  0.939547  0.938884  0.937591  0.931664  0.930426  0.930184   \n",
      "\n",
      "         gl       hil        sn       bcl        ml        tn        ts  \\\n",
      "0  0.929355  0.916505  0.909547  0.906534  0.905973  0.905406  0.902225   \n",
      "\n",
      "        nso        st        mg        ee       crs        to        ny  \\\n",
      "0  0.901855  0.899871  0.898715  0.898538  0.896045  0.895879  0.895239   \n",
      "\n",
      "        pis       bzs        sm        cy       pag       run        ti  \\\n",
      "0  0.894123  0.892915  0.890622  0.889273  0.889009  0.888142  0.886505   \n",
      "\n",
      "        guw       loz        ht        ig       niu       mfe        bi  \\\n",
      "0  0.886384  0.885639  0.885157  0.885116  0.884716  0.882856  0.882629   \n",
      "\n",
      "        gaa       tpi        mh        ln        ha       efi        rw  \\\n",
      "0  0.877593  0.876551  0.876038  0.875123  0.874301  0.873893  0.873098   \n",
      "\n",
      "        fj       gil       tvl       iso       toi       bem       chk  \\\n",
      "0  0.87291  0.870395  0.868444  0.867829  0.866454  0.865903  0.863911   \n",
      "\n",
      "        pon        kg        ho        sg       lus       lua        lu  \\\n",
      "0  0.861158  0.860822  0.859596  0.859115  0.858137  0.857587  0.856536   \n",
      "\n",
      "         lg       rnd       kqn       tll       lue       tiv       kwy  \n",
      "0  0.856417  0.854539  0.852004  0.849782  0.846983  0.846453  0.845693  \n"
     ]
    }
   ],
   "source": [
    "with pd.option_context('display.max_rows', None, 'display.max_columns', None):  # more options can be specified also\n",
    "    print(df_sim_plot)\n"
   ]
  }
 ],
 "metadata": {
  "kernelspec": {
   "display_name": "Python 3",
   "language": "python",
   "name": "python3"
  },
  "language_info": {
   "codemirror_mode": {
    "name": "ipython",
    "version": 3
   },
   "file_extension": ".py",
   "mimetype": "text/x-python",
   "name": "python",
   "nbconvert_exporter": "python",
   "pygments_lexer": "ipython3",
   "version": "3.6.8"
  }
 },
 "nbformat": 4,
 "nbformat_minor": 2
}
