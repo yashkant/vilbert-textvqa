{
 "cells": [
  {
   "cell_type": "code",
   "execution_count": 6,
   "metadata": {},
   "outputs": [
    {
     "name": "stdout",
     "output_type": "stream",
     "text": [
      "> <ipython-input-6-c014b646c3a0>(32)<module>()->None\n",
      "-> for q,i in revqa_pairs:\n",
      "(Pdb) c\n"
     ]
    },
    {
     "ename": "NameError",
     "evalue": "name 'val_image_ids' is not defined",
     "output_type": "error",
     "traceback": [
      "\u001b[0;31m---------------------------------------------------------------------------\u001b[0m",
      "\u001b[0;31mNameError\u001b[0m                                 Traceback (most recent call last)",
      "\u001b[0;32m<ipython-input-6-c014b646c3a0>\u001b[0m in \u001b[0;36m<module>\u001b[0;34m\u001b[0m\n\u001b[1;32m     30\u001b[0m     \u001b[0;32mimport\u001b[0m \u001b[0mpdb\u001b[0m\u001b[0;34m\u001b[0m\u001b[0;34m\u001b[0m\u001b[0m\n\u001b[1;32m     31\u001b[0m     \u001b[0mpdb\u001b[0m\u001b[0;34m.\u001b[0m\u001b[0mset_trace\u001b[0m\u001b[0;34m(\u001b[0m\u001b[0;34m)\u001b[0m\u001b[0;34m\u001b[0m\u001b[0;34m\u001b[0m\u001b[0m\n\u001b[0;32m---> 32\u001b[0;31m     \u001b[0;32mfor\u001b[0m \u001b[0mq\u001b[0m\u001b[0;34m,\u001b[0m\u001b[0mi\u001b[0m \u001b[0;32min\u001b[0m \u001b[0mrevqa_pairs\u001b[0m\u001b[0;34m:\u001b[0m\u001b[0;34m\u001b[0m\u001b[0;34m\u001b[0m\u001b[0m\n\u001b[0m\u001b[1;32m     33\u001b[0m         \u001b[0;32mif\u001b[0m \u001b[0mq\u001b[0m \u001b[0;32min\u001b[0m \u001b[0mimage_question_dict\u001b[0m\u001b[0;34m[\u001b[0m\u001b[0mi\u001b[0m\u001b[0;34m]\u001b[0m\u001b[0;34m:\u001b[0m\u001b[0;34m\u001b[0m\u001b[0;34m\u001b[0m\u001b[0m\n\u001b[1;32m     34\u001b[0m             \u001b[0mimage_question_dict\u001b[0m\u001b[0;34m[\u001b[0m\u001b[0mi\u001b[0m\u001b[0;34m]\u001b[0m\u001b[0;34m.\u001b[0m\u001b[0mremove\u001b[0m\u001b[0;34m(\u001b[0m\u001b[0mq\u001b[0m\u001b[0;34m)\u001b[0m\u001b[0;34m\u001b[0m\u001b[0;34m\u001b[0m\u001b[0m\n",
      "\u001b[0;31mNameError\u001b[0m: name 'val_image_ids' is not defined"
     ]
    }
   ],
   "source": [
    "import json\n",
    "import _pickle as cPickle\n",
    "from collections import defaultdict\n",
    "\n",
    "paths_dict = {\n",
    "    \"re_train\": [\"/nethome/ykant3/vilbert-multi-task/data/re-vqa/data/revqa_train_proc.json\", \"/nethome/ykant3/vilbert-multi-task/datasets/VQA/cache/revqa_train_target.pkl\", \"train\"],\n",
    "    \"re_val\": [\"/nethome/ykant3/vilbert-multi-task/data/re-vqa/data/revqa_val_proc.json\", \"/nethome/ykant3/vilbert-multi-task/datasets/VQA/cache/revqa_val_target.pkl\", \"val\"],\n",
    "}\n",
    "\n",
    "questions, answers = [], []\n",
    "revqa_image_ids = []\n",
    "revqa_pairs = []\n",
    "\n",
    "image_question_dict = defaultdict(list)\n",
    "\n",
    "val_questions = json.load(open(\"/srv/share/datasets/vilbert/data/VQA/v2_OpenEnded_mscoco_val2014_questions.json\"))[\"questions\"]\n",
    "for i in val_questions:\n",
    "    image_question_dict[i[\"image_id\"]].append(i[\"question_id\"])\n",
    "\n",
    "\n",
    "for key, value in paths_dict.items():\n",
    "    _questions, _answers = json.load(open(value[0]))[\"questions\"], cPickle.load(open(value[1], \"rb\"))\n",
    "    image_ids = [i['image_id'] for i in _questions]\n",
    "    question_ids = [i['question_id'] for i in _questions]\n",
    "    revqa_pairs.extend(list(zip(question_ids, image_ids)))\n",
    "    revqa_image_ids.extend(image_ids)\n",
    "\n",
    "# remove revqa question-ids\n",
    "for q,i in revqa_pairs:\n",
    "    if q in image_question_dict[i]:\n",
    "        image_question_dict[i].remove(q)\n"
   ]
  },
  {
   "cell_type": "code",
   "execution_count": 57,
   "metadata": {},
   "outputs": [],
   "source": [
    "import numpy as np\n",
    "nonoverlap_question_ids = []\n",
    "for key, value in image_question_dict.items():\n",
    "    nonoverlap_question_ids.append(np.random.choice(value))\n"
   ]
  },
  {
   "cell_type": "code",
   "execution_count": 62,
   "metadata": {},
   "outputs": [
    {
     "data": {
      "text/plain": [
       "40504"
      ]
     },
     "execution_count": 62,
     "metadata": {},
     "output_type": "execute_result"
    }
   ],
   "source": [
    "len(set(nonoverlap_question_ids) - set(list(zip(*revqa_pairs))[0]))"
   ]
  },
  {
   "cell_type": "code",
   "execution_count": 66,
   "metadata": {},
   "outputs": [],
   "source": [
    "dump_path = \"/nethome/ykant3/vilbert-multi-task/data/re-vqa/data/non_overlap_ids.npy\"\n",
    "np.save(dump_path, nonoverlap_question_ids)"
   ]
  }
 ],
 "metadata": {
  "kernelspec": {
   "display_name": "Python 3",
   "language": "python",
   "name": "python3"
  },
  "language_info": {
   "codemirror_mode": {
    "name": "ipython",
    "version": 3
   },
   "file_extension": ".py",
   "mimetype": "text/x-python",
   "name": "python",
   "nbconvert_exporter": "python",
   "pygments_lexer": "ipython3",
   "version": "3.6.8"
  }
 },
 "nbformat": 4,
 "nbformat_minor": 2
}
